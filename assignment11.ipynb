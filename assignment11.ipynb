{
 "cells": [
  {
   "cell_type": "markdown",
   "metadata": {},
   "source": [
    "# Database - Assignment 11 (Object relational mapping) "
   ]
  },
  {
   "cell_type": "markdown",
   "metadata": {},
   "source": [
    "### Exercise 1"
   ]
  },
  {
   "cell_type": "code",
   "execution_count": 126,
   "metadata": {},
   "outputs": [],
   "source": [
    "import mysql.connector\n",
    "\n",
    "mydb = mysql.connector.connect(\n",
    "  host=\"localhost\",\n",
    "  user=\"root\",\n",
    "  passwd=\"\",\n",
    "  database=\"ormDB\"\n",
    ")\n",
    "\n",
    "mycursor = mydb.cursor()\n",
    "\n",
    "# Need only to execute once or add the drop database if exists...\n",
    "#mycursor.execute(\"CREATE DATABASE ormDB\")"
   ]
  },
  {
   "cell_type": "code",
   "execution_count": 3,
   "metadata": {},
   "outputs": [],
   "source": [
    "data = {\"schemaName\": \"MicroShop\",\n",
    "  \"entities\": [\n",
    "  \t{\"Customer\": {\n",
    "  \t\t\"name\": \"String\",\n",
    "  \t\t\"orders\" :\"*Order\"}},\n",
    "  \t{\"Orders\" :{\n",
    "  \t\t\"date\": \"String\",\n",
    "  \t\t\"total\": \"Number\",\n",
    "  \t\t\"customer\": \"Customer\",\n",
    "  \t\t\"line\": \"*OrderLine\" }},\n",
    "  \t{\"OrderLine\" : {\n",
    "  \t\t\"orders\": \"Order\",\n",
    "  \t\t\"product\": \"Product\",\n",
    "  \t\t\"count\": \"Number\",\n",
    "  \t\t\"total\": \"Number\" }},\n",
    "  \t{\"Product\" : {\n",
    "  \t\t\"name\": \"String\",\n",
    "  \t\t\"price\" :\"Number\"}}\n",
    "  ]\n",
    "}"
   ]
  },
  {
   "cell_type": "code",
   "execution_count": 4,
   "metadata": {},
   "outputs": [
    {
     "data": {
      "text/plain": [
       "{'schemaName': 'MicroShop',\n",
       " 'entities': [{'Customer': {'name': 'String', 'orders': '*Order'}},\n",
       "  {'Orders': {'date': 'String',\n",
       "    'total': 'Number',\n",
       "    'customer': 'Customer',\n",
       "    'line': '*OrderLine'}},\n",
       "  {'OrderLine': {'orders': 'Order',\n",
       "    'product': 'Product',\n",
       "    'count': 'Number',\n",
       "    'total': 'Number'}},\n",
       "  {'Product': {'name': 'String', 'price': 'Number'}}]}"
      ]
     },
     "execution_count": 4,
     "metadata": {},
     "output_type": "execute_result"
    }
   ],
   "source": [
    "data"
   ]
  },
  {
   "cell_type": "code",
   "execution_count": 5,
   "metadata": {},
   "outputs": [
    {
     "name": "stdout",
     "output_type": "stream",
     "text": [
      "<class 'dict'>\n"
     ]
    }
   ],
   "source": [
    "print(type(data))"
   ]
  },
  {
   "cell_type": "code",
   "execution_count": 6,
   "metadata": {},
   "outputs": [],
   "source": [
    "class Customer:\n",
    "    cslname=\"\"\n",
    "    name =\"\"\n",
    "    orders = []\n",
    "    \n",
    "    def __init__(self, cslname,name, orders):\n",
    "        self.cslname = cslname\n",
    "        self.name = name\n",
    "        self.orders = orders\n",
    "\n",
    "   \n",
    "    \n",
    "    \n",
    "class Order:\n",
    "    cslname=\"\"\n",
    "    date =\"\"\n",
    "    total=\"\"\n",
    "    customer =\"\"\n",
    "    lines = []\n",
    "    \n",
    "    def __init__(self, cslname, date, total, customer, lines):\n",
    "        self.cslname = cslname\n",
    "        self.date = date\n",
    "        self.total = total\n",
    "        self.customer = customer\n",
    "        self.lines = lines\n",
    "        \n",
    "        \n",
    "\n",
    "class OrderLine:\n",
    "    cslname=\"\"    \n",
    "    order =\"\"\n",
    "    product =\"\"\n",
    "    count =\"\"\n",
    "    total =\"\"\n",
    "    \n",
    "    def __init__(self, cslname, order, product,count, total):\n",
    "        self.cslname = cslname\n",
    "        self.order = order\n",
    "        self.product = product\n",
    "        self.count = count\n",
    "        self.total = total\n",
    "        \n",
    "\n",
    "\n",
    "\n",
    "class Product:\n",
    "    cslname=\"\"\n",
    "    name = \"\"\n",
    "    price =\"\"\n",
    "    \n",
    "    def __init__(self, cslname, name, price):\n",
    "        self.cslname = cslname\n",
    "        self.name = name\n",
    "        self.price = price\n",
    "    \n",
    "    \n",
    " \n",
    "\n",
    "    "
   ]
  },
  {
   "cell_type": "code",
   "execution_count": 7,
   "metadata": {},
   "outputs": [],
   "source": [
    "def tableName(data):\n",
    "    convertData(data) \n",
    "    tablename = data['schemaName']\n",
    "    return tablename\n",
    " \n",
    "\n",
    "    \n",
    "def convertData(ent):\n",
    "    arr=[]\n",
    "    entity =ent['entities']\n",
    "    \n",
    "    customerData = entity[0]    \n",
    "    h1 = getheadername(customerData)\n",
    "    cells = customerData.get('Customer')\n",
    "    customerclass(h1, cells)\n",
    "             \n",
    "            \n",
    "    orderData = entity[1]    \n",
    "    h2 = getheadername(orderData)\n",
    "    cells2 = orderData.get('Orders')\n",
    "    orderclass(h2, cells2)\n",
    "   \n",
    "       \n",
    "    orderlineData = entity[2]   \n",
    "    h3 = getheadername(orderlineData)\n",
    "    cells3 = orderlineData.get('OrderLine')\n",
    "    orderlineclass(h3, cells3)\n",
    "    \n",
    "         \n",
    "    productData = entity[3] \n",
    "    h4 = getheadername(productData)\n",
    "    cells4 = productData.get('Product')\n",
    "    prodcuctclass(h4, cells4)\n",
    "    \n",
    "    \n",
    "    return \"Done\"\n",
    "\n",
    "\n",
    "def getheadername(entity):\n",
    "    entity = str(entity)\n",
    "    entites = entity.split(':')\n",
    "    Dataheader = entites[0].replace('{', ' ')\n",
    "    return Dataheader\n",
    "\n",
    "\n",
    "\n",
    "#################################################\n",
    "\n",
    "def customerclass(h, i):\n",
    "    arr = []\n",
    "    arr2 = []\n",
    "    for z in i:\n",
    "        unit = z, i.get(z)\n",
    "        arr.append(z)\n",
    "        arr2.append(i.get(z))\n",
    "           \n",
    "    name = arr[0] , arr2[0]\n",
    "    order = arr[1], arr2[1]\n",
    "    \n",
    "    customerclass = Customer(h, name, order)\n",
    "    sql = makesqltable(h,arr,arr2)\n",
    "    #write_tofile(sql)\n",
    "    \n",
    "\n",
    "def orderclass(h, i):\n",
    "    print(h,i)\n",
    "    arr = []\n",
    "    arr2 = []\n",
    "    for z in i:\n",
    "        unit = z, i.get(z)\n",
    "        arr.append(z)\n",
    "        arr2.append(i.get(z))\n",
    "           \n",
    "    date = arr[0] , arr2[0]\n",
    "    total = arr[1], arr2[1]\n",
    "    customer = arr[2], arr2[2]\n",
    "    lines = arr[3], arr2[3]\n",
    "    \n",
    "    orderclass = Order(h, date, total, customer, lines)\n",
    "    sql = makesqltable(h,arr,arr2)\n",
    "    #write_tofile(sql)\n",
    "\n",
    "    \n",
    "def orderlineclass(h, i):\n",
    "    arr = []\n",
    "    arr2 = []\n",
    "    for z in i:\n",
    "        unit = z, i.get(z)\n",
    "        arr.append(z)\n",
    "        arr2.append(i.get(z))\n",
    "           \n",
    "    order = arr[0] , arr2[0]\n",
    "    product = arr[1], arr2[1]\n",
    "    count = arr[2], arr2[2]\n",
    "    total = arr[3], arr2[3]\n",
    "    \n",
    "    \n",
    "    orderlineclass = OrderLine(h, order, product, count, total)\n",
    "    sql = makesqltable(h,arr,arr2)\n",
    "    #write_tofile(sql)\n",
    "\n",
    "        \n",
    "\n",
    "def prodcuctclass(h, i):\n",
    "    arr = []\n",
    "    arr2 = []\n",
    "    for z in i:\n",
    "        unit = z, i.get(z)\n",
    "        arr.append(z)\n",
    "        arr2.append(i.get(z))\n",
    "           \n",
    "    name = arr[0] , arr2[0]\n",
    "    price = arr[1], arr2[1]\n",
    "    \n",
    "    \n",
    "    productclass = Product(h, name, price)\n",
    "    sql = makesqltable(h,arr,arr2)\n",
    "    #write_tofile(sql)\n",
    "    \n",
    "    \n",
    "def ConvertString(string): \n",
    "    li = list(string.split(\" \")) \n",
    "    return li\n",
    "\n",
    "\n",
    "\n",
    "def makesqltable(h,arr,arr2):\n",
    "    h = h.replace('\\'', ' ')\n",
    "    sql = \"DROP TABLE IF EXISTS\"+h+\";\\n\"\n",
    "    sql += \"CREATE TABLE\" +h+ \"(ID INT NOT NULL PRIMARY KEY AUTO_INCREMENT, \"\n",
    "    count = 0\n",
    "    comma=\",\" \n",
    "    while(count<len(arr)):\n",
    "          \n",
    "        sql +=  arr[count] + \" \"+ sqltypes(arr2[count]) \n",
    "        sql += comma\n",
    "        count+=1\n",
    "    \n",
    "    \n",
    "    sql=sql.rstrip(',')\n",
    "    sql+=\");\"\n",
    "    return sql\n",
    "\n",
    "\n",
    "def sqltypes(types):\n",
    "       \n",
    "    if(types==\"String\" or types==\"Date\"):\n",
    "        result = \"VARCHAR(255)\"\n",
    "        return result\n",
    "    \n",
    "    elif(types==\"Number\" or types==\"Order\" or types==\"Customer\" or types==\"Product\"):\n",
    "        result =\"INT\"\n",
    "        return result    \n",
    "    \n",
    "    elif(types==\"Number\" or types==\"*Order\" or types==\"*OrderLine\"):\n",
    "        result =\"INT\"\n",
    "        return result           \n",
    "        \n",
    "        DOUBLE  \n",
    "    \n",
    "\n",
    "def write_tofile(sql):\n",
    "    file2 = open(\"sqlorm.txt\",\"a+\")    \n",
    "    file2.write(f\"{str(sql)}\\n\")\n",
    "    \n",
    "\n",
    "def queryfromfile():\n",
    "    \n",
    "    with open('sqlorm.txt', 'r') as reader:\n",
    "        line = reader.readline()\n",
    "        while line != '': \n",
    "            print(line, end='')\n",
    "            # only need to create the below statement once....(mycursor.execute(line))\n",
    "            #mycursor.execute(line)\n",
    "            line = reader.readline()\n",
    "            \n",
    "            "
   ]
  },
  {
   "cell_type": "code",
   "execution_count": 8,
   "metadata": {},
   "outputs": [
    {
     "name": "stdout",
     "output_type": "stream",
     "text": [
      " 'Orders' {'date': 'String', 'total': 'Number', 'customer': 'Customer', 'line': '*OrderLine'}\n"
     ]
    },
    {
     "data": {
      "text/plain": [
       "'MicroShop'"
      ]
     },
     "execution_count": 8,
     "metadata": {},
     "output_type": "execute_result"
    }
   ],
   "source": [
    "tableName(data)"
   ]
  },
  {
   "cell_type": "code",
   "execution_count": 9,
   "metadata": {},
   "outputs": [
    {
     "name": "stdout",
     "output_type": "stream",
     "text": [
      "DROP TABLE IF EXISTS  Customer ;\n",
      "CREATE TABLE  Customer (ID INT NOT NULL PRIMARY KEY AUTO_INCREMENT, name VARCHAR(255),orders INT);\n",
      "DROP TABLE IF EXISTS  Orders ;\n",
      "CREATE TABLE  Orders (ID INT NOT NULL PRIMARY KEY AUTO_INCREMENT, date VARCHAR(255),total INT,customer INT,line INT);\n",
      "DROP TABLE IF EXISTS  OrderLine ;\n",
      "CREATE TABLE  OrderLine (ID INT NOT NULL PRIMARY KEY AUTO_INCREMENT, orders INT,product INT,count INT,total INT);\n",
      "DROP TABLE IF EXISTS  Product ;\n",
      "CREATE TABLE  Product (ID INT NOT NULL PRIMARY KEY AUTO_INCREMENT, name VARCHAR(255),price INT);\n"
     ]
    }
   ],
   "source": [
    "# Need to only run this once \n",
    "queryfromfile()"
   ]
  },
  {
   "cell_type": "code",
   "execution_count": 10,
   "metadata": {},
   "outputs": [],
   "source": [
    "l = [ (\"lenovo\",5000),\n",
    "      (\"HP\",7500),\n",
    "      (\"Dell\",4500),\n",
    "      (\"Mac\",9500),\n",
    "      (\"Chromebooks\",4000)  \n",
    "    ]\n",
    "\n",
    "def productinsert(val):\n",
    "    sql = \"INSERT INTO Product (name, price) VALUES (%s, %s)\"\n",
    "    mycursor = mydb.cursor()\n",
    "    mycursor.executemany(sql, val)\n",
    "    mydb.commit()\n",
    "    print(mycursor.rowcount, \"was inserted.\")\n",
    "    \n",
    "# only need to execute once\n",
    "#productinsert(l)"
   ]
  },
  {
   "cell_type": "code",
   "execution_count": 17,
   "metadata": {},
   "outputs": [],
   "source": [
    "\n",
    "\n",
    "    \n",
    "def datalayer(customername,productid,quantity,date):\n",
    "   \n",
    "    mycursor = mydb.cursor()\n",
    " \n",
    "    sql_select = \"SELECT ID FROM Orders ORDER BY ID DESC LIMIT 1\"\n",
    "    mycursor.execute(sql_select)\n",
    "    orderid = mycursor.fetchall()\n",
    "    \n",
    "    if(len(orderid) == 0):\n",
    "        orderid = 1\n",
    "        \n",
    "    else:\n",
    "        for x in orderid:\n",
    "            \n",
    "            orderid = convertToInt(x)\n",
    "            orderid+=1\n",
    "            \n",
    "           \n",
    "    sql_getcustid = \"SELECT ID FROM Customer ORDER BY ID DESC LIMIT 1\"\n",
    "    mycursor.execute(sql_getcustid)\n",
    "    cid = mycursor.fetchall()\n",
    "    \n",
    "    if(len(cid) == 0):\n",
    "        cid = 1\n",
    "    else:\n",
    "        for y in cid:\n",
    "            \n",
    "            cid = convertToInt(y)\n",
    "            cid+=1\n",
    "            \n",
    "    sql = \"INSERT INTO Customer (name, orders) VALUES (%s, %s)\"\n",
    "    value = [(customername, orderid)]\n",
    "    mycursor = mydb.cursor()\n",
    "    mycursor.executemany(sql, value)\n",
    "    \n",
    "            \n",
    "      \n",
    "    sql_getlineid = \"SELECT ID FROM OrderLine ORDER BY ID DESC LIMIT 1\"\n",
    "    mycursor.execute(sql_getlineid)\n",
    "    lineid = mycursor.fetchall()\n",
    "    \n",
    "    if(len(lineid) == 0):\n",
    "        lineid = 1\n",
    "    else:\n",
    "        for z in lineid:\n",
    "            \n",
    "            lineid = convertToInt(z)\n",
    "            lineid+=1\n",
    "            \n",
    "    \n",
    "       \n",
    "    sql_getpriceid = \"SELECT price FROM Product WHERE ID=%s\"\n",
    "    id = (productid,)\n",
    "    mycursor.execute(sql_getpriceid,id)\n",
    "    price = mycursor.fetchall()\n",
    "    for z in price:\n",
    "        price = convertToInt(z)\n",
    "            \n",
    "    \n",
    "    total = price*quantity\n",
    "    \n",
    "    \n",
    "    sql2 = \"INSERT INTO Orders (date, total, customer, line) VALUES (%s, %s,%s, %s)\"\n",
    "   \n",
    "    #print(date, total,cid,lineid)\n",
    "    \n",
    "    val2 = [(date, total,cid,lineid)]\n",
    "    mycursor.executemany(sql2, val2)\n",
    "    \n",
    "    \n",
    "    sql3 = \"INSERT INTO OrderLine (orders, product, count, total) VALUES (%s, %s,%s, %s)\"\n",
    "\n",
    "    #print(orderid, productid,quantity,total)\n",
    "    val3 = [(orderid, productid,quantity,total)]\n",
    "    mycursor.executemany(sql3, val3)\n",
    "    \n",
    "    \n",
    "    mydb.commit()\n",
    "\n",
    "    print(mycursor.rowcount, \"Rows inserted\")\n",
    "    \n",
    "\n",
    "def convertToInt(list):     \n",
    "    res = int(\"\".join(map(str, list)))       \n",
    "    return res \n",
    "  "
   ]
  },
  {
   "cell_type": "code",
   "execution_count": 16,
   "metadata": {},
   "outputs": [
    {
     "name": "stdout",
     "output_type": "stream",
     "text": [
      "1 Hopefully inserterd right\n",
      "1 Hopefully inserterd right\n",
      "1 Hopefully inserterd right\n",
      "1 Hopefully inserterd right\n",
      "1 Hopefully inserterd right\n",
      "1 Hopefully inserterd right\n",
      "1 Hopefully inserterd right\n",
      "1 Hopefully inserterd right\n",
      "1 Hopefully inserterd right\n"
     ]
    }
   ],
   "source": [
    "# mock date/string   \n",
    "\n",
    "datalayer(\"John\",5,2,\"2019-03-09\")\n",
    "datalayer(\"Joe\",2,5,\"2019-03-12\")\n",
    "datalayer(\"Eve\",2,10,\"2019-03-20\")\n",
    "datalayer(\"Luke\",3,20,\"2019-03-29\")\n",
    "datalayer(\"Solo\",5,15,\"2019-04-10\")\n",
    "datalayer(\"Leia\",4,5,\"2019-04-15\")\n",
    "datalayer(\"Chewie\",5,3,\"2019-04-16\")\n",
    "datalayer(\"Jabba\",1,8,\"2019-04-28\")\n",
    "datalayer(\"Vader\",3,7,\"2019-05-01\")\n"
   ]
  },
  {
   "cell_type": "markdown",
   "metadata": {},
   "source": [
    "### The queryfromfile method executes a chain of functions from the described methods above, and takes the input data and instanitates the necessary classes (Customer, Orders, Orderlines, Product) which are associated with the data. The first part perform the data convertion to mysql statements and stores them in af file called sqlorm.txt. Next it reads from the file and insert them into mysql database named ormDB. "
   ]
  },
  {
   "cell_type": "markdown",
   "metadata": {},
   "source": [
    "No ORM without a query language. We will make a very simple one with the following syntax:\n",
    "\n",
    "Customer return a collection of all Customers\n",
    "Customer.name return a collection of all names of Customers\n",
    "(Customer|name='Joe') return a collection of all Customers named Joe.\n",
    "(Customer|name='Joe').Orders return a collection of all Joe's orders\n",
    "(Customer|name='Joe').Orders.OrderLine.Product return a collection of all products in all of Joe's orders\n",
    "(Orders|total > 200).Customer.name return a list of all Customers with an order above 200.\n",
    "I suggest you get the queries to work in the order specified above. Getting the first two to work is necessary.\n",
    "\n",
    "The condition in (Customer|name='Joe') can be really hard to do if you want to do it 100% right. I therefore suggest to merely assume that the part from | to the matching ) is copied into a sql where clause directly.\n",
    "\n",
    "Examples of how the query language could be used in Python could be:\n",
    "\n",
    "names = myQuery(\"Product.name\")\n",
    "for name in names:\n",
    "\tprint(name)\n",
    "or\n",
    "\n",
    "joesOrders = myQuery(\"(Customer|name='Joe').Orders\")\n",
    "for order in joesOrders:\n",
    "\tprint( order.date )\n"
   ]
  },
  {
   "cell_type": "markdown",
   "metadata": {},
   "source": [
    "### Excerice 2"
   ]
  },
  {
   "cell_type": "code",
   "execution_count": 29,
   "metadata": {},
   "outputs": [],
   "source": [
    "def selectAll(table):\n",
    "    mycursor = mydb.cursor()\n",
    "    sqlstr = \"SELECT * FROM \" + table +\";\"\n",
    "    mycursor.execute(sqlstr)\n",
    "    myresult = mycursor.fetchall()\n",
    "    print(myresult)\n",
    "    "
   ]
  },
  {
   "cell_type": "code",
   "execution_count": 30,
   "metadata": {},
   "outputs": [
    {
     "name": "stdout",
     "output_type": "stream",
     "text": [
      "[(1, 'John', 1), (2, 'Joe', 2), (3, 'Eve', 3), (4, 'Luke', 4), (5, 'Solo', 5), (6, 'Leia', 6), (7, 'Chewie', 7), (8, 'Jabba', 8), (9, 'Vader', 9)]\n"
     ]
    }
   ],
   "source": [
    "selectAll(\"customer\")"
   ]
  },
  {
   "cell_type": "code",
   "execution_count": 38,
   "metadata": {},
   "outputs": [],
   "source": [
    "def selectByAttribute(table, att):\n",
    "    mycursor = mydb.cursor()\n",
    "    mycursor.execute(\"SELECT \" + att + \" FROM \" + table)\n",
    "    myresult = mycursor.fetchall()\n",
    "    print(myresult)"
   ]
  },
  {
   "cell_type": "code",
   "execution_count": 39,
   "metadata": {},
   "outputs": [
    {
     "name": "stdout",
     "output_type": "stream",
     "text": [
      "[('John',), ('Joe',), ('Eve',), ('Luke',), ('Solo',), ('Leia',), ('Chewie',), ('Jabba',), ('Vader',)]\n"
     ]
    }
   ],
   "source": [
    "selectByAttribute(\"customer\", \"name\")"
   ]
  },
  {
   "cell_type": "code",
   "execution_count": 107,
   "metadata": {},
   "outputs": [],
   "source": [
    "def selectByName(table, thename, orders):\n",
    "   \n",
    "    mycursor = mydb.cursor()\n",
    "    sql = \"SELECT * FROM \" + table + \" where name = %s\"\n",
    "    tname = (thename,)\n",
    "    mycursor.execute(sql,tname)\n",
    "   \n",
    "    myresult = mycursor.fetchall()\n",
    "    print(myresult)"
   ]
  },
  {
   "cell_type": "code",
   "execution_count": 108,
   "metadata": {},
   "outputs": [
    {
     "name": "stdout",
     "output_type": "stream",
     "text": [
      "[(2, 'Joe', 2)]\n"
     ]
    }
   ],
   "source": [
    "cust = Customer(\"customer\", \"Joe\", 2)\n",
    "selectByName(cust.cslname , cust.name, cust.orders)"
   ]
  },
  {
   "cell_type": "code",
   "execution_count": 115,
   "metadata": {},
   "outputs": [
    {
     "name": "stdout",
     "output_type": "stream",
     "text": [
      "1 Rows inserted\n"
     ]
    }
   ],
   "source": [
    "datalayer(\"Joe\",3,9,\"2019-05-06\")"
   ]
  },
  {
   "cell_type": "code",
   "execution_count": 145,
   "metadata": {},
   "outputs": [],
   "source": [
    "def selectOrderByName(table, thename, orders):\n",
    "   \n",
    "    mycursor = mydb.cursor()\n",
    "    sql = \"SELECT orders FROM \" + table + \" where name = %s\" \n",
    "    \n",
    "    mycursor.execute(sql,(thename,))\n",
    "   \n",
    "    myresult = mycursor.fetchall()\n",
    "    print(myresult)\n"
   ]
  },
  {
   "cell_type": "code",
   "execution_count": 146,
   "metadata": {},
   "outputs": [
    {
     "name": "stdout",
     "output_type": "stream",
     "text": [
      "[(2,), (10,)]\n"
     ]
    }
   ],
   "source": [
    "selectOrderByName(cust.cslname , cust.name, cust.orders)"
   ]
  },
  {
   "cell_type": "code",
   "execution_count": null,
   "metadata": {},
   "outputs": [],
   "source": []
  }
 ],
 "metadata": {
  "kernelspec": {
   "display_name": "Python 3",
   "language": "python",
   "name": "python3"
  },
  "language_info": {
   "codemirror_mode": {
    "name": "ipython",
    "version": 3
   },
   "file_extension": ".py",
   "mimetype": "text/x-python",
   "name": "python",
   "nbconvert_exporter": "python",
   "pygments_lexer": "ipython3",
   "version": "3.6.5"
  }
 },
 "nbformat": 4,
 "nbformat_minor": 2
}
